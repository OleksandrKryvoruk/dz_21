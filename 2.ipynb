{
 "cells": [
  {
   "cell_type": "markdown",
   "id": "064eda01",
   "metadata": {},
   "source": [
    "### ЗАВДАННЯ 2"
   ]
  },
  {
   "cell_type": "code",
   "execution_count": 3,
   "id": "978ac7fd",
   "metadata": {},
   "outputs": [],
   "source": [
    "class Matrix:\n",
    "\n",
    "    def __init__(self, lst):\n",
    "        try:\n",
    "            for i in range(len(lst)):\n",
    "                if type(lst) == list and type(lst[i]) == list:       \n",
    "                    if lst == [[]]:\n",
    "                        self.matrix = [[]]\n",
    "                        return None\n",
    "                    for x in lst[i]:\n",
    "                        if not (type(x) == int or type(x) == float):\n",
    "                            print(\"all elements of matrix must be numbers\")\n",
    "                            self.matrix = [[]]\n",
    "                            return None\n",
    "                    self.matrix = lst                               \n",
    "                else:                                                \n",
    "                    print(\"lst isn't list of lists\")\n",
    "                    self.matrix = [[]]\n",
    "                    return None\n",
    "        except TypeError:                                            \n",
    "            print(\"lst isn't list of lists\")\n",
    "            self.matrix = [[]]\n",
    "\n",
    "            \n",
    "    def __str__(self):\n",
    "        return self.matrix\n",
    "    \n",
    "    \n",
    "    def change_lines(self, line_1, line_2):  \n",
    "        if not (type(line_1) == int and type(line_2) == int and line_1 <= len(self.matrix)-1 and line_2 <= len(self.matrix)-1):\n",
    "            print(\"Uncorrect numbers of lines!\")\n",
    "            return None\n",
    "        self.matrix[line_1], self.matrix[line_2] = self.matrix[line_2], self.matrix[line_1]\n",
    "           \n",
    "            \n",
    "            \n",
    "    def multi_line(self, line, digit):    \n",
    "        if not (type(line) == int and type(digit) == int and line <= len(self.matrix)-1 and digit != 0):\n",
    "            print(\"Uncorrect numbers of lines\")\n",
    "            return None\n",
    "        self.matrix[line] = [i * digit for i in self.matrix[line]]    \n",
    "        \n",
    "        \n",
    "    def division_line(self, line, digit):   \n",
    "        if not (type(line) == int and type(digit) == int and line <= len(self.matrix)-1 and digit != 0):\n",
    "            print(\"Uncorrect numbers of lines\")\n",
    "            return None\n",
    "        self.matrix[line] = [i // digit for i in self.matrix[line]]     \n",
    "   \n",
    "\n",
    "    def add_line(self, line_1, line_2, digit): \n",
    "        if not (type(line_1) == int and type(line_2) == int and type(digit) == int and line_1 <= len(self.matrix)-1 and line_2 <= len(self.matrix)-1 and digit != 0):\n",
    "            print(\"Uncorrect numbers of lines\")\n",
    "            return None\n",
    "        added_line = [i * digit for i in self.matrix[line_2]]\n",
    "        for i in range(len(self.matrix[line_1])):\n",
    "            self.matrix[line_1][i] += added_line[i]   \n",
    "    \n",
    "    "
   ]
  },
  {
   "cell_type": "markdown",
   "id": "a69c9ddb",
   "metadata": {},
   "source": [
    "Використовуючи елементарні перетворення рядків, перетворити матрицю Test в верхню трикутну матрицю:"
   ]
  },
  {
   "cell_type": "code",
   "execution_count": 4,
   "id": "88ff2e02",
   "metadata": {},
   "outputs": [
    {
     "name": "stdout",
     "output_type": "stream",
     "text": [
      "[[4, 2, 0], [1, 3, 2], [-1, 3, 10]]\n"
     ]
    }
   ],
   "source": [
    "list_1 = [[4, 2, 0], [1, 3, 2], [-1, 3, 10]]\n",
    "Test = Matrix(list_1)\n",
    "print(Test.__str__())    "
   ]
  },
  {
   "cell_type": "markdown",
   "id": "ea3b4c8f",
   "metadata": {},
   "source": [
    "Поміняємо перший та другий рядок місцями:"
   ]
  },
  {
   "cell_type": "code",
   "execution_count": 5,
   "id": "ea6f4f54",
   "metadata": {},
   "outputs": [
    {
     "name": "stdout",
     "output_type": "stream",
     "text": [
      "[[1, 3, 2], [4, 2, 0], [-1, 3, 10]]\n"
     ]
    }
   ],
   "source": [
    "Test.change_lines(0, 1)\n",
    "print(Test.__str__())  "
   ]
  },
  {
   "cell_type": "markdown",
   "id": "ba9c9df9",
   "metadata": {},
   "source": [
    "До 2-го рядка додати 1-й, помножений на -4:"
   ]
  },
  {
   "cell_type": "code",
   "execution_count": 6,
   "id": "d0cd7ea6",
   "metadata": {},
   "outputs": [
    {
     "name": "stdout",
     "output_type": "stream",
     "text": [
      "[[1, 3, 2], [0, -10, -8], [-1, 3, 10]]\n"
     ]
    }
   ],
   "source": [
    "Test.add_line(1, 0, -4)\n",
    "print(Test.__str__())  "
   ]
  },
  {
   "cell_type": "markdown",
   "id": "54a841c9",
   "metadata": {},
   "source": [
    "До 3-го рядка додати 1-й:"
   ]
  },
  {
   "cell_type": "code",
   "execution_count": 7,
   "id": "be0a7a18",
   "metadata": {},
   "outputs": [
    {
     "name": "stdout",
     "output_type": "stream",
     "text": [
      "[[1, 3, 2], [0, -10, -8], [0, 6, 12]]\n"
     ]
    }
   ],
   "source": [
    "Test.add_line(2, 0, 1)\n",
    "print(Test.__str__())  "
   ]
  },
  {
   "cell_type": "markdown",
   "id": "4daeae89",
   "metadata": {},
   "source": [
    "2-й рядок поділити на -2:"
   ]
  },
  {
   "cell_type": "code",
   "execution_count": 8,
   "id": "4baf31d9",
   "metadata": {},
   "outputs": [
    {
     "name": "stdout",
     "output_type": "stream",
     "text": [
      "[[1, 3, 2], [0, 5, 4], [0, 6, 12]]\n"
     ]
    }
   ],
   "source": [
    "Test.division_line(1, -2)\n",
    "print(Test.__str__())  "
   ]
  },
  {
   "cell_type": "markdown",
   "id": "1e571d11",
   "metadata": {},
   "source": [
    "3-й рядок ділимо на 6:"
   ]
  },
  {
   "cell_type": "code",
   "execution_count": 9,
   "id": "a7a1d5d0",
   "metadata": {},
   "outputs": [
    {
     "name": "stdout",
     "output_type": "stream",
     "text": [
      "[[1, 3, 2], [0, 5, 4], [0, 1, 2]]\n"
     ]
    }
   ],
   "source": [
    "Test.division_line(2, 6)\n",
    "print(Test.__str__())  "
   ]
  },
  {
   "cell_type": "markdown",
   "id": "3ae1a039",
   "metadata": {},
   "source": [
    "Поміняємо 2-й та 3-й рядок місцями:"
   ]
  },
  {
   "cell_type": "code",
   "execution_count": 10,
   "id": "4299c857",
   "metadata": {},
   "outputs": [
    {
     "name": "stdout",
     "output_type": "stream",
     "text": [
      "[[1, 3, 2], [0, 1, 2], [0, 5, 4]]\n"
     ]
    }
   ],
   "source": [
    "Test.change_lines(1, 2)\n",
    "print(Test.__str__())  "
   ]
  },
  {
   "cell_type": "markdown",
   "id": "20d92368",
   "metadata": {},
   "source": [
    "До 3-го рядка додамо 2-й, помножений на -5:"
   ]
  },
  {
   "cell_type": "code",
   "execution_count": 11,
   "id": "20edee79",
   "metadata": {},
   "outputs": [
    {
     "name": "stdout",
     "output_type": "stream",
     "text": [
      "[[1, 3, 2], [0, 1, 2], [0, 0, -6]]\n"
     ]
    }
   ],
   "source": [
    "Test.add_line(2, 1, -5)\n",
    "print(Test.__str__())  "
   ]
  },
  {
   "cell_type": "code",
   "execution_count": null,
   "id": "a8de85c3",
   "metadata": {},
   "outputs": [],
   "source": []
  }
 ],
 "metadata": {
  "kernelspec": {
   "display_name": "Python 3 (ipykernel)",
   "language": "python",
   "name": "python3"
  },
  "language_info": {
   "codemirror_mode": {
    "name": "ipython",
    "version": 3
   },
   "file_extension": ".py",
   "mimetype": "text/x-python",
   "name": "python",
   "nbconvert_exporter": "python",
   "pygments_lexer": "ipython3",
   "version": "3.9.7"
  }
 },
 "nbformat": 4,
 "nbformat_minor": 5
}
